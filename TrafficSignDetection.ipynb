{
 "cells": [
  {
   "cell_type": "code",
   "execution_count": 1,
   "id": "b2c88c11",
   "metadata": {
    "execution": {
     "iopub.execute_input": "2024-01-25T12:45:25.036039Z",
     "iopub.status.busy": "2024-01-25T12:45:25.035019Z",
     "iopub.status.idle": "2024-01-25T12:45:25.040354Z",
     "shell.execute_reply": "2024-01-25T12:45:25.039461Z"
    },
    "papermill": {
     "duration": 0.018252,
     "end_time": "2024-01-25T12:45:25.042466",
     "exception": false,
     "start_time": "2024-01-25T12:45:25.024214",
     "status": "completed"
    },
    "tags": []
   },
   "outputs": [],
   "source": [
    "# import os\n",
    "# for dirname, _, filenames in os.walk('/kaggle/input'):\n",
    "#     for filename in filenames:\n",
    "#         pass"
   ]
  },
  {
   "cell_type": "code",
   "execution_count": 2,
   "id": "cdedf325",
   "metadata": {
    "_cell_guid": "b1076dfc-b9ad-4769-8c92-a6c4dae69d19",
    "_uuid": "8f2839f25d086af736a60e9eeb907d3b93b6e0e5",
    "execution": {
     "iopub.execute_input": "2024-01-25T12:45:25.062018Z",
     "iopub.status.busy": "2024-01-25T12:45:25.061193Z",
     "iopub.status.idle": "2024-01-25T12:45:39.646652Z",
     "shell.execute_reply": "2024-01-25T12:45:39.645736Z"
    },
    "papermill": {
     "duration": 14.597709,
     "end_time": "2024-01-25T12:45:39.649077",
     "exception": false,
     "start_time": "2024-01-25T12:45:25.051368",
     "status": "completed"
    },
    "tags": []
   },
   "outputs": [
    {
     "name": "stderr",
     "output_type": "stream",
     "text": [
      "/opt/conda/lib/python3.10/site-packages/scipy/__init__.py:146: UserWarning: A NumPy version >=1.16.5 and <1.23.0 is required for this version of SciPy (detected version 1.24.3\n",
      "  warnings.warn(f\"A NumPy version >={np_minversion} and <{np_maxversion}\"\n"
     ]
    }
   ],
   "source": [
    "\n",
    "import numpy as np # linear algebra\n",
    "import pandas as pd # data processing, CSV file I/O (e.g. pd.read_csv)\n",
    "import matplotlib.pyplot as plt\n",
    "import os\n",
    "import tensorflow as tf\n",
    "import pickle\n",
    "import cv2\n",
    "from sklearn.model_selection import train_test_split \n",
    "from keras.utils import to_categorical\n",
    "from keras.models import Sequential \n",
    "from keras.optimizers import Adam\n",
    "from keras.layers import Flatten, Conv2D, MaxPooling2D, Dense, Dropout\n",
    "from keras.callbacks import EarlyStopping\n",
    "from keras.preprocessing.image import ImageDataGenerator\n",
    "\n",
    "\n"
   ]
  },
  {
   "cell_type": "code",
   "execution_count": 3,
   "id": "f48fafaa",
   "metadata": {
    "execution": {
     "iopub.execute_input": "2024-01-25T12:45:39.668668Z",
     "iopub.status.busy": "2024-01-25T12:45:39.667604Z",
     "iopub.status.idle": "2024-01-25T12:45:39.672227Z",
     "shell.execute_reply": "2024-01-25T12:45:39.671321Z"
    },
    "papermill": {
     "duration": 0.016335,
     "end_time": "2024-01-25T12:45:39.674192",
     "exception": false,
     "start_time": "2024-01-25T12:45:39.657857",
     "status": "completed"
    },
    "tags": []
   },
   "outputs": [],
   "source": [
    "np.random.seed(42)"
   ]
  },
  {
   "cell_type": "code",
   "execution_count": 4,
   "id": "0e56a435",
   "metadata": {
    "execution": {
     "iopub.execute_input": "2024-01-25T12:45:39.692118Z",
     "iopub.status.busy": "2024-01-25T12:45:39.691839Z",
     "iopub.status.idle": "2024-01-25T12:45:39.729329Z",
     "shell.execute_reply": "2024-01-25T12:45:39.728496Z"
    },
    "papermill": {
     "duration": 0.048808,
     "end_time": "2024-01-25T12:45:39.731425",
     "exception": false,
     "start_time": "2024-01-25T12:45:39.682617",
     "status": "completed"
    },
    "tags": []
   },
   "outputs": [
    {
     "data": {
      "text/html": [
       "<div>\n",
       "<style scoped>\n",
       "    .dataframe tbody tr th:only-of-type {\n",
       "        vertical-align: middle;\n",
       "    }\n",
       "\n",
       "    .dataframe tbody tr th {\n",
       "        vertical-align: top;\n",
       "    }\n",
       "\n",
       "    .dataframe thead th {\n",
       "        text-align: right;\n",
       "    }\n",
       "</style>\n",
       "<table border=\"1\" class=\"dataframe\">\n",
       "  <thead>\n",
       "    <tr style=\"text-align: right;\">\n",
       "      <th></th>\n",
       "      <th>ClassId</th>\n",
       "      <th>Name</th>\n",
       "    </tr>\n",
       "  </thead>\n",
       "  <tbody>\n",
       "    <tr>\n",
       "      <th>0</th>\n",
       "      <td>0</td>\n",
       "      <td>Give way</td>\n",
       "    </tr>\n",
       "    <tr>\n",
       "      <th>1</th>\n",
       "      <td>1</td>\n",
       "      <td>No entry</td>\n",
       "    </tr>\n",
       "    <tr>\n",
       "      <th>2</th>\n",
       "      <td>2</td>\n",
       "      <td>One-way traffic</td>\n",
       "    </tr>\n",
       "    <tr>\n",
       "      <th>3</th>\n",
       "      <td>3</td>\n",
       "      <td>One-way traffic</td>\n",
       "    </tr>\n",
       "    <tr>\n",
       "      <th>4</th>\n",
       "      <td>4</td>\n",
       "      <td>No vehicles in both directions</td>\n",
       "    </tr>\n",
       "    <tr>\n",
       "      <th>5</th>\n",
       "      <td>5</td>\n",
       "      <td>No entry for cycles</td>\n",
       "    </tr>\n",
       "    <tr>\n",
       "      <th>6</th>\n",
       "      <td>6</td>\n",
       "      <td>No entry for goods vehicles</td>\n",
       "    </tr>\n",
       "    <tr>\n",
       "      <th>7</th>\n",
       "      <td>7</td>\n",
       "      <td>No entry for pedestrians</td>\n",
       "    </tr>\n",
       "    <tr>\n",
       "      <th>8</th>\n",
       "      <td>8</td>\n",
       "      <td>No entry for bullock carts</td>\n",
       "    </tr>\n",
       "    <tr>\n",
       "      <th>9</th>\n",
       "      <td>9</td>\n",
       "      <td>No entry for hand carts</td>\n",
       "    </tr>\n",
       "    <tr>\n",
       "      <th>10</th>\n",
       "      <td>10</td>\n",
       "      <td>No entry for motor vehicles</td>\n",
       "    </tr>\n",
       "    <tr>\n",
       "      <th>11</th>\n",
       "      <td>11</td>\n",
       "      <td>Height limit</td>\n",
       "    </tr>\n",
       "    <tr>\n",
       "      <th>12</th>\n",
       "      <td>12</td>\n",
       "      <td>Weight limit</td>\n",
       "    </tr>\n",
       "    <tr>\n",
       "      <th>13</th>\n",
       "      <td>13</td>\n",
       "      <td>Axle weight limit</td>\n",
       "    </tr>\n",
       "    <tr>\n",
       "      <th>14</th>\n",
       "      <td>14</td>\n",
       "      <td>Length limit</td>\n",
       "    </tr>\n",
       "    <tr>\n",
       "      <th>15</th>\n",
       "      <td>15</td>\n",
       "      <td>No left turn</td>\n",
       "    </tr>\n",
       "    <tr>\n",
       "      <th>16</th>\n",
       "      <td>16</td>\n",
       "      <td>No right turn</td>\n",
       "    </tr>\n",
       "    <tr>\n",
       "      <th>17</th>\n",
       "      <td>17</td>\n",
       "      <td>No overtaking</td>\n",
       "    </tr>\n",
       "    <tr>\n",
       "      <th>18</th>\n",
       "      <td>18</td>\n",
       "      <td>Maximum speed limit (90 km/h)</td>\n",
       "    </tr>\n",
       "    <tr>\n",
       "      <th>19</th>\n",
       "      <td>19</td>\n",
       "      <td>Maximum speed limit (110 km/h)</td>\n",
       "    </tr>\n",
       "    <tr>\n",
       "      <th>20</th>\n",
       "      <td>20</td>\n",
       "      <td>Horn prohibited</td>\n",
       "    </tr>\n",
       "    <tr>\n",
       "      <th>21</th>\n",
       "      <td>21</td>\n",
       "      <td>No parking</td>\n",
       "    </tr>\n",
       "    <tr>\n",
       "      <th>22</th>\n",
       "      <td>22</td>\n",
       "      <td>No stopping</td>\n",
       "    </tr>\n",
       "    <tr>\n",
       "      <th>23</th>\n",
       "      <td>23</td>\n",
       "      <td>Turn left</td>\n",
       "    </tr>\n",
       "    <tr>\n",
       "      <th>24</th>\n",
       "      <td>24</td>\n",
       "      <td>Turn right</td>\n",
       "    </tr>\n",
       "    <tr>\n",
       "      <th>25</th>\n",
       "      <td>25</td>\n",
       "      <td>Steep descent</td>\n",
       "    </tr>\n",
       "    <tr>\n",
       "      <th>26</th>\n",
       "      <td>26</td>\n",
       "      <td>Steep ascent</td>\n",
       "    </tr>\n",
       "    <tr>\n",
       "      <th>27</th>\n",
       "      <td>27</td>\n",
       "      <td>Narrow road</td>\n",
       "    </tr>\n",
       "    <tr>\n",
       "      <th>28</th>\n",
       "      <td>28</td>\n",
       "      <td>Narrow bridge</td>\n",
       "    </tr>\n",
       "    <tr>\n",
       "      <th>29</th>\n",
       "      <td>29</td>\n",
       "      <td>Unprotected quay</td>\n",
       "    </tr>\n",
       "    <tr>\n",
       "      <th>30</th>\n",
       "      <td>30</td>\n",
       "      <td>Road hump</td>\n",
       "    </tr>\n",
       "    <tr>\n",
       "      <th>31</th>\n",
       "      <td>31</td>\n",
       "      <td>Dip</td>\n",
       "    </tr>\n",
       "    <tr>\n",
       "      <th>32</th>\n",
       "      <td>32</td>\n",
       "      <td>Loose gravel</td>\n",
       "    </tr>\n",
       "    <tr>\n",
       "      <th>33</th>\n",
       "      <td>33</td>\n",
       "      <td>Falling rocks</td>\n",
       "    </tr>\n",
       "    <tr>\n",
       "      <th>34</th>\n",
       "      <td>34</td>\n",
       "      <td>Cattle</td>\n",
       "    </tr>\n",
       "    <tr>\n",
       "      <th>35</th>\n",
       "      <td>35</td>\n",
       "      <td>Crossroads</td>\n",
       "    </tr>\n",
       "    <tr>\n",
       "      <th>36</th>\n",
       "      <td>36</td>\n",
       "      <td>Side road junction</td>\n",
       "    </tr>\n",
       "    <tr>\n",
       "      <th>37</th>\n",
       "      <td>37</td>\n",
       "      <td>Side road junction</td>\n",
       "    </tr>\n",
       "    <tr>\n",
       "      <th>38</th>\n",
       "      <td>38</td>\n",
       "      <td>Oblique side road junction</td>\n",
       "    </tr>\n",
       "    <tr>\n",
       "      <th>39</th>\n",
       "      <td>39</td>\n",
       "      <td>Oblique side road junction</td>\n",
       "    </tr>\n",
       "    <tr>\n",
       "      <th>40</th>\n",
       "      <td>40</td>\n",
       "      <td>T-junction</td>\n",
       "    </tr>\n",
       "    <tr>\n",
       "      <th>41</th>\n",
       "      <td>41</td>\n",
       "      <td>Y-junction</td>\n",
       "    </tr>\n",
       "    <tr>\n",
       "      <th>42</th>\n",
       "      <td>42</td>\n",
       "      <td>Staggered side road junction</td>\n",
       "    </tr>\n",
       "    <tr>\n",
       "      <th>43</th>\n",
       "      <td>43</td>\n",
       "      <td>Staggered side road junction</td>\n",
       "    </tr>\n",
       "    <tr>\n",
       "      <th>44</th>\n",
       "      <td>44</td>\n",
       "      <td>Roundabout</td>\n",
       "    </tr>\n",
       "    <tr>\n",
       "      <th>45</th>\n",
       "      <td>45</td>\n",
       "      <td>Guarded level crossing ahead</td>\n",
       "    </tr>\n",
       "    <tr>\n",
       "      <th>46</th>\n",
       "      <td>46</td>\n",
       "      <td>Unguarded level crossing ahead</td>\n",
       "    </tr>\n",
       "    <tr>\n",
       "      <th>47</th>\n",
       "      <td>47</td>\n",
       "      <td>Level crossing countdown marker</td>\n",
       "    </tr>\n",
       "    <tr>\n",
       "      <th>48</th>\n",
       "      <td>48</td>\n",
       "      <td>Level crossing countdown marker</td>\n",
       "    </tr>\n",
       "    <tr>\n",
       "      <th>49</th>\n",
       "      <td>49</td>\n",
       "      <td>Level crossing countdown marker</td>\n",
       "    </tr>\n",
       "    <tr>\n",
       "      <th>50</th>\n",
       "      <td>50</td>\n",
       "      <td>Level crossing countdown marker</td>\n",
       "    </tr>\n",
       "    <tr>\n",
       "      <th>51</th>\n",
       "      <td>51</td>\n",
       "      <td>Parking</td>\n",
       "    </tr>\n",
       "    <tr>\n",
       "      <th>52</th>\n",
       "      <td>52</td>\n",
       "      <td>Bus stop</td>\n",
       "    </tr>\n",
       "    <tr>\n",
       "      <th>53</th>\n",
       "      <td>53</td>\n",
       "      <td>First aid post</td>\n",
       "    </tr>\n",
       "    <tr>\n",
       "      <th>54</th>\n",
       "      <td>54</td>\n",
       "      <td>Telephone</td>\n",
       "    </tr>\n",
       "    <tr>\n",
       "      <th>55</th>\n",
       "      <td>55</td>\n",
       "      <td>Filling station</td>\n",
       "    </tr>\n",
       "    <tr>\n",
       "      <th>56</th>\n",
       "      <td>56</td>\n",
       "      <td>Hotel</td>\n",
       "    </tr>\n",
       "    <tr>\n",
       "      <th>57</th>\n",
       "      <td>57</td>\n",
       "      <td>Restaurant</td>\n",
       "    </tr>\n",
       "    <tr>\n",
       "      <th>58</th>\n",
       "      <td>58</td>\n",
       "      <td>Refreshments</td>\n",
       "    </tr>\n",
       "  </tbody>\n",
       "</table>\n",
       "</div>"
      ],
      "text/plain": [
       "    ClassId                             Name\n",
       "0         0                         Give way\n",
       "1         1                         No entry\n",
       "2         2                  One-way traffic\n",
       "3         3                  One-way traffic\n",
       "4         4   No vehicles in both directions\n",
       "5         5              No entry for cycles\n",
       "6         6      No entry for goods vehicles\n",
       "7         7         No entry for pedestrians\n",
       "8         8       No entry for bullock carts\n",
       "9         9          No entry for hand carts\n",
       "10       10      No entry for motor vehicles\n",
       "11       11                     Height limit\n",
       "12       12                     Weight limit\n",
       "13       13                Axle weight limit\n",
       "14       14                     Length limit\n",
       "15       15                     No left turn\n",
       "16       16                    No right turn\n",
       "17       17                    No overtaking\n",
       "18       18    Maximum speed limit (90 km/h)\n",
       "19       19   Maximum speed limit (110 km/h)\n",
       "20       20                  Horn prohibited\n",
       "21       21                       No parking\n",
       "22       22                      No stopping\n",
       "23       23                        Turn left\n",
       "24       24                       Turn right\n",
       "25       25                    Steep descent\n",
       "26       26                     Steep ascent\n",
       "27       27                      Narrow road\n",
       "28       28                    Narrow bridge\n",
       "29       29                 Unprotected quay\n",
       "30       30                        Road hump\n",
       "31       31                              Dip\n",
       "32       32                     Loose gravel\n",
       "33       33                    Falling rocks\n",
       "34       34                           Cattle\n",
       "35       35                       Crossroads\n",
       "36       36               Side road junction\n",
       "37       37               Side road junction\n",
       "38       38       Oblique side road junction\n",
       "39       39       Oblique side road junction\n",
       "40       40                       T-junction\n",
       "41       41                       Y-junction\n",
       "42       42     Staggered side road junction\n",
       "43       43     Staggered side road junction\n",
       "44       44                       Roundabout\n",
       "45       45     Guarded level crossing ahead\n",
       "46       46   Unguarded level crossing ahead\n",
       "47       47  Level crossing countdown marker\n",
       "48       48  Level crossing countdown marker\n",
       "49       49  Level crossing countdown marker\n",
       "50       50  Level crossing countdown marker\n",
       "51       51                          Parking\n",
       "52       52                         Bus stop\n",
       "53       53                   First aid post\n",
       "54       54                        Telephone\n",
       "55       55                  Filling station\n",
       "56       56                            Hotel\n",
       "57       57                       Restaurant\n",
       "58       58                     Refreshments"
      ]
     },
     "execution_count": 4,
     "metadata": {},
     "output_type": "execute_result"
    }
   ],
   "source": [
    "df=pd.read_csv(\"/kaggle/input/indian-traffic-sign-dataset/Indian-Traffic Sign-Dataset/traffic_sign.csv\")\n",
    "df.set_index('ClassId')\n",
    "df"
   ]
  },
  {
   "cell_type": "code",
   "execution_count": 5,
   "id": "bbc1e424",
   "metadata": {
    "execution": {
     "iopub.execute_input": "2024-01-25T12:45:39.750926Z",
     "iopub.status.busy": "2024-01-25T12:45:39.750652Z",
     "iopub.status.idle": "2024-01-25T12:46:51.410968Z",
     "shell.execute_reply": "2024-01-25T12:46:51.410133Z"
    },
    "papermill": {
     "duration": 71.672628,
     "end_time": "2024-01-25T12:46:51.413593",
     "exception": false,
     "start_time": "2024-01-25T12:45:39.740965",
     "status": "completed"
    },
    "tags": []
   },
   "outputs": [
    {
     "name": "stdout",
     "output_type": "stream",
     "text": [
      "58\n"
     ]
    }
   ],
   "source": [
    "IMG_SIZE = 64\n",
    "images = []\n",
    "labels = []\n",
    "path = \"/kaggle/input/indian-traffic-sign-dataset/Indian-Traffic Sign-Dataset/Images\"\n",
    "print(len(os.listdir(path)))\n",
    "for file in os.listdir(path):\n",
    "    for image in os.listdir(path+'/'+str(file)):\n",
    "        img =  cv2.imread(path+'/'+file+'/'+image)\n",
    "        img = cv2.resize(img,(IMG_SIZE,IMG_SIZE))\n",
    "        images.append(img)\n",
    "        labels.append(file)"
   ]
  },
  {
   "cell_type": "code",
   "execution_count": 6,
   "id": "d39140be",
   "metadata": {
    "execution": {
     "iopub.execute_input": "2024-01-25T12:46:51.433493Z",
     "iopub.status.busy": "2024-01-25T12:46:51.433128Z",
     "iopub.status.idle": "2024-01-25T12:46:51.437893Z",
     "shell.execute_reply": "2024-01-25T12:46:51.437122Z"
    },
    "papermill": {
     "duration": 0.016722,
     "end_time": "2024-01-25T12:46:51.439952",
     "exception": false,
     "start_time": "2024-01-25T12:46:51.423230",
     "status": "completed"
    },
    "tags": []
   },
   "outputs": [
    {
     "name": "stdout",
     "output_type": "stream",
     "text": [
      "59\n"
     ]
    }
   ],
   "source": [
    "noOfClasses = len(df)\n",
    "print(noOfClasses)"
   ]
  },
  {
   "cell_type": "code",
   "execution_count": 7,
   "id": "d1861ce3",
   "metadata": {
    "execution": {
     "iopub.execute_input": "2024-01-25T12:46:51.458797Z",
     "iopub.status.busy": "2024-01-25T12:46:51.458526Z",
     "iopub.status.idle": "2024-01-25T12:46:51.757706Z",
     "shell.execute_reply": "2024-01-25T12:46:51.756849Z"
    },
    "papermill": {
     "duration": 0.310981,
     "end_time": "2024-01-25T12:46:51.759856",
     "exception": false,
     "start_time": "2024-01-25T12:46:51.448875",
     "status": "completed"
    },
    "tags": []
   },
   "outputs": [
    {
     "data": {
      "text/plain": [
       "<matplotlib.image.AxesImage at 0x7a2f0dfb3ac0>"
      ]
     },
     "execution_count": 7,
     "metadata": {},
     "output_type": "execute_result"
    },
    {
     "data": {
      "image/png": "[encoded data removed]",
      "text/plain": [
       "<Figure size 640x480 with 1 Axes>"
      ]
     },
     "metadata": {},
     "output_type": "display_data"
    }
   ],
   "source": [
    "plt.imshow(images[0])"
   ]
  },
  {
   "cell_type": "code",
   "execution_count": 8,
   "id": "89bd1e0b",
   "metadata": {
    "execution": {
     "iopub.execute_input": "2024-01-25T12:46:51.781486Z",
     "iopub.status.busy": "2024-01-25T12:46:51.780771Z",
     "iopub.status.idle": "2024-01-25T12:46:51.786428Z",
     "shell.execute_reply": "2024-01-25T12:46:51.785597Z"
    },
    "papermill": {
     "duration": 0.017694,
     "end_time": "2024-01-25T12:46:51.788286",
     "exception": false,
     "start_time": "2024-01-25T12:46:51.770592",
     "status": "completed"
    },
    "tags": []
   },
   "outputs": [
    {
     "data": {
      "text/plain": [
       "13971"
      ]
     },
     "execution_count": 8,
     "metadata": {},
     "output_type": "execute_result"
    }
   ],
   "source": [
    "len(images)"
   ]
  },
  {
   "cell_type": "code",
   "execution_count": 9,
   "id": "490925d9",
   "metadata": {
    "execution": {
     "iopub.execute_input": "2024-01-25T12:46:51.808827Z",
     "iopub.status.busy": "2024-01-25T12:46:51.808551Z",
     "iopub.status.idle": "2024-01-25T12:46:51.881820Z",
     "shell.execute_reply": "2024-01-25T12:46:51.880998Z"
    },
    "papermill": {
     "duration": 0.086428,
     "end_time": "2024-01-25T12:46:51.884549",
     "exception": false,
     "start_time": "2024-01-25T12:46:51.798121",
     "status": "completed"
    },
    "tags": []
   },
   "outputs": [],
   "source": [
    "images = np.array(images)\n",
    "labels = np.array(labels)"
   ]
  },
  {
   "cell_type": "code",
   "execution_count": 10,
   "id": "eb580b8d",
   "metadata": {
    "execution": {
     "iopub.execute_input": "2024-01-25T12:46:51.907179Z",
     "iopub.status.busy": "2024-01-25T12:46:51.906829Z",
     "iopub.status.idle": "2024-01-25T12:46:51.912426Z",
     "shell.execute_reply": "2024-01-25T12:46:51.911573Z"
    },
    "papermill": {
     "duration": 0.018517,
     "end_time": "2024-01-25T12:46:51.914337",
     "exception": false,
     "start_time": "2024-01-25T12:46:51.895820",
     "status": "completed"
    },
    "tags": []
   },
   "outputs": [],
   "source": [
    "def grayScale(image):\n",
    "    image = cv2.cvtColor(image,cv2.COLOR_BGR2GRAY)\n",
    "    return image\n",
    "\n",
    "def equalizer(image):\n",
    "    image = cv2.equalizeHist(image)\n",
    "    return image\n",
    "\n",
    "def preprocessing(image):\n",
    "    image = grayScale(image)\n",
    "    image = equalizer(image)\n",
    "    image = image/255\n",
    "    return image"
   ]
  },
  {
   "cell_type": "code",
   "execution_count": 11,
   "id": "1c135be6",
   "metadata": {
    "execution": {
     "iopub.execute_input": "2024-01-25T12:46:51.935067Z",
     "iopub.status.busy": "2024-01-25T12:46:51.934790Z",
     "iopub.status.idle": "2024-01-25T12:46:51.938729Z",
     "shell.execute_reply": "2024-01-25T12:46:51.937925Z"
    },
    "papermill": {
     "duration": 0.016552,
     "end_time": "2024-01-25T12:46:51.940681",
     "exception": false,
     "start_time": "2024-01-25T12:46:51.924129",
     "status": "completed"
    },
    "tags": []
   },
   "outputs": [],
   "source": [
    "X=images\n",
    "Y=labels"
   ]
  },
  {
   "cell_type": "code",
   "execution_count": 12,
   "id": "6b8e2ca6",
   "metadata": {
    "execution": {
     "iopub.execute_input": "2024-01-25T12:46:51.961241Z",
     "iopub.status.busy": "2024-01-25T12:46:51.960969Z",
     "iopub.status.idle": "2024-01-25T12:46:52.067410Z",
     "shell.execute_reply": "2024-01-25T12:46:52.066138Z"
    },
    "papermill": {
     "duration": 0.119269,
     "end_time": "2024-01-25T12:46:52.069731",
     "exception": false,
     "start_time": "2024-01-25T12:46:51.950462",
     "status": "completed"
    },
    "tags": []
   },
   "outputs": [
    {
     "name": "stdout",
     "output_type": "stream",
     "text": [
      "Train(8940, 64, 64, 3) (8940,)\n",
      "Validation(2236, 64, 64, 3) (2236,)\n",
      "Test(2795, 64, 64, 3) (2795,)\n"
     ]
    }
   ],
   "source": [
    "X_train,X_test,Y_train,Y_test=train_test_split(X,Y,test_size=0.2)\n",
    "X_train, X_validation, Y_train, Y_validation = train_test_split(X_train, Y_train, test_size=0.2)\n",
    "\n",
    "print(\"Train\",end = \"\");print(X_train.shape,Y_train.shape)\n",
    "print(\"Validation\",end = \"\");print(X_validation.shape,Y_validation.shape)\n",
    "print(\"Test\",end = \"\");print(X_test.shape,Y_test.shape)"
   ]
  },
  {
   "cell_type": "code",
   "execution_count": 13,
   "id": "9755e330",
   "metadata": {
    "execution": {
     "iopub.execute_input": "2024-01-25T12:46:52.091697Z",
     "iopub.status.busy": "2024-01-25T12:46:52.091384Z",
     "iopub.status.idle": "2024-01-25T12:46:52.369917Z",
     "shell.execute_reply": "2024-01-25T12:46:52.368952Z"
    },
    "papermill": {
     "duration": 0.291883,
     "end_time": "2024-01-25T12:46:52.372065",
     "exception": false,
     "start_time": "2024-01-25T12:46:52.080182",
     "status": "completed"
    },
    "tags": []
   },
   "outputs": [
    {
     "data": {
      "text/plain": [
       "<matplotlib.image.AxesImage at 0x7a2f0b8f5a50>"
      ]
     },
     "execution_count": 13,
     "metadata": {},
     "output_type": "execute_result"
    },
    {
     "data": {
      "image/png": "[encoded data removed]",
      "text/plain": [
       "<Figure size 640x480 with 1 Axes>"
      ]
     },
     "metadata": {},
     "output_type": "display_data"
    }
   ],
   "source": [
    "plt.imshow(X_train[0])"
   ]
  },
  {
   "cell_type": "code",
   "execution_count": 14,
   "id": "6d946606",
   "metadata": {
    "execution": {
     "iopub.execute_input": "2024-01-25T12:46:52.395547Z",
     "iopub.status.busy": "2024-01-25T12:46:52.395233Z",
     "iopub.status.idle": "2024-01-25T12:46:53.033509Z",
     "shell.execute_reply": "2024-01-25T12:46:53.032366Z"
    },
    "papermill": {
     "duration": 0.652499,
     "end_time": "2024-01-25T12:46:53.036019",
     "exception": false,
     "start_time": "2024-01-25T12:46:52.383520",
     "status": "completed"
    },
    "tags": []
   },
   "outputs": [],
   "source": [
    "X_train=np.array(list(map(preprocessing,X_train)))  \n",
    "X_validation=np.array(list(map(preprocessing,X_validation)))\n",
    "X_test=np.array(list(map(preprocessing,X_test)))"
   ]
  },
  {
   "cell_type": "code",
   "execution_count": 15,
   "id": "264ea6f5",
   "metadata": {
    "execution": {
     "iopub.execute_input": "2024-01-25T12:46:53.058773Z",
     "iopub.status.busy": "2024-01-25T12:46:53.058463Z",
     "iopub.status.idle": "2024-01-25T12:46:53.064016Z",
     "shell.execute_reply": "2024-01-25T12:46:53.063149Z"
    },
    "papermill": {
     "duration": 0.019813,
     "end_time": "2024-01-25T12:46:53.066836",
     "exception": false,
     "start_time": "2024-01-25T12:46:53.047023",
     "status": "completed"
    },
    "tags": []
   },
   "outputs": [
    {
     "name": "stdout",
     "output_type": "stream",
     "text": [
      "Train(8940, 64, 64) (8940,)\n",
      "Validation(2236, 64, 64) (2236,)\n",
      "Test(2795, 64, 64) (2795,)\n"
     ]
    }
   ],
   "source": [
    "print(\"Train\",end = \"\");print(X_train.shape,Y_train.shape)\n",
    "print(\"Validation\",end = \"\");print(X_validation.shape,Y_validation.shape)\n",
    "print(\"Test\",end = \"\");print(X_test.shape,Y_test.shape)"
   ]
  },
  {
   "cell_type": "code",
   "execution_count": 16,
   "id": "4298a46b",
   "metadata": {
    "execution": {
     "iopub.execute_input": "2024-01-25T12:46:53.089421Z",
     "iopub.status.busy": "2024-01-25T12:46:53.089056Z",
     "iopub.status.idle": "2024-01-25T12:46:53.094651Z",
     "shell.execute_reply": "2024-01-25T12:46:53.093685Z"
    },
    "papermill": {
     "duration": 0.018915,
     "end_time": "2024-01-25T12:46:53.096704",
     "exception": false,
     "start_time": "2024-01-25T12:46:53.077789",
     "status": "completed"
    },
    "tags": []
   },
   "outputs": [],
   "source": [
    "X_train=X_train.reshape(X_train.shape[0],X_train.shape[1],X_train.shape[2],1)\n",
    "X_validation=X_validation.reshape(X_validation.shape[0],X_validation.shape[1],X_validation.shape[2],1)\n",
    "X_test=X_test.reshape(X_test.shape[0],X_test.shape[1],X_test.shape[2],1)"
   ]
  },
  {
   "cell_type": "code",
   "execution_count": 17,
   "id": "b546f195",
   "metadata": {
    "execution": {
     "iopub.execute_input": "2024-01-25T12:46:53.120058Z",
     "iopub.status.busy": "2024-01-25T12:46:53.119049Z",
     "iopub.status.idle": "2024-01-25T12:46:53.125510Z",
     "shell.execute_reply": "2024-01-25T12:46:53.124627Z"
    },
    "papermill": {
     "duration": 0.020829,
     "end_time": "2024-01-25T12:46:53.127865",
     "exception": false,
     "start_time": "2024-01-25T12:46:53.107036",
     "status": "completed"
    },
    "tags": []
   },
   "outputs": [
    {
     "name": "stdout",
     "output_type": "stream",
     "text": [
      "Train(8940, 64, 64, 1) (8940,)\n",
      "Validation(2236, 64, 64, 1) (2236,)\n",
      "Test(2795, 64, 64, 1) (2795,)\n"
     ]
    }
   ],
   "source": [
    "print(\"Train\",end = \"\");print(X_train.shape,Y_train.shape)\n",
    "print(\"Validation\",end = \"\");print(X_validation.shape,Y_validation.shape)\n",
    "print(\"Test\",end = \"\");print(X_test.shape,Y_test.shape)"
   ]
  },
  {
   "cell_type": "code",
   "execution_count": 18,
   "id": "bf4432d1",
   "metadata": {
    "execution": {
     "iopub.execute_input": "2024-01-25T12:46:53.150595Z",
     "iopub.status.busy": "2024-01-25T12:46:53.150283Z",
     "iopub.status.idle": "2024-01-25T12:46:53.163438Z",
     "shell.execute_reply": "2024-01-25T12:46:53.162557Z"
    },
    "papermill": {
     "duration": 0.027231,
     "end_time": "2024-01-25T12:46:53.165640",
     "exception": false,
     "start_time": "2024-01-25T12:46:53.138409",
     "status": "completed"
    },
    "tags": []
   },
   "outputs": [],
   "source": [
    "Y_train=np.float32(Y_train)\n",
    "Y_validation=np.float32(Y_validation)\n",
    "Y_test=np.float32(Y_test)"
   ]
  },
  {
   "cell_type": "code",
   "execution_count": 19,
   "id": "710b35e5",
   "metadata": {
    "execution": {
     "iopub.execute_input": "2024-01-25T12:46:53.188041Z",
     "iopub.status.busy": "2024-01-25T12:46:53.187763Z",
     "iopub.status.idle": "2024-01-25T12:46:53.193210Z",
     "shell.execute_reply": "2024-01-25T12:46:53.192245Z"
    },
    "papermill": {
     "duration": 0.019068,
     "end_time": "2024-01-25T12:46:53.195423",
     "exception": false,
     "start_time": "2024-01-25T12:46:53.176355",
     "status": "completed"
    },
    "tags": []
   },
   "outputs": [
    {
     "name": "stdout",
     "output_type": "stream",
     "text": [
      "Train(8940, 64, 64, 1) (8940,)\n",
      "Validation(2236, 64, 64, 1) (2236,)\n",
      "Test(2795, 64, 64, 1) (2795,)\n"
     ]
    }
   ],
   "source": [
    "print(\"Train\",end = \"\");print(X_train.shape,Y_train.shape)\n",
    "print(\"Validation\",end = \"\");print(X_validation.shape,Y_validation.shape)\n",
    "print(\"Test\",end = \"\");print(X_test.shape,Y_test.shape)"
   ]
  },
  {
   "cell_type": "code",
   "execution_count": 20,
   "id": "48d0056f",
   "metadata": {
    "execution": {
     "iopub.execute_input": "2024-01-25T12:46:53.218299Z",
     "iopub.status.busy": "2024-01-25T12:46:53.217972Z",
     "iopub.status.idle": "2024-01-25T12:46:53.225642Z",
     "shell.execute_reply": "2024-01-25T12:46:53.224689Z"
    },
    "papermill": {
     "duration": 0.021616,
     "end_time": "2024-01-25T12:46:53.227895",
     "exception": false,
     "start_time": "2024-01-25T12:46:53.206279",
     "status": "completed"
    },
    "tags": []
   },
   "outputs": [
    {
     "data": {
      "text/plain": [
       "array([[[1.        ],\n",
       "        [0.21176471],\n",
       "        [0.12156863],\n",
       "        ...,\n",
       "        [0.12156863],\n",
       "        [0.21176471],\n",
       "        [1.        ]],\n",
       "\n",
       "       [[0.21176471],\n",
       "        [0.17254902],\n",
       "        [0.08235294],\n",
       "        ...,\n",
       "        [0.08235294],\n",
       "        [0.17254902],\n",
       "        [0.21176471]],\n",
       "\n",
       "       [[0.12156863],\n",
       "        [0.08235294],\n",
       "        [0.02745098],\n",
       "        ...,\n",
       "        [0.02745098],\n",
       "        [0.08235294],\n",
       "        [0.12156863]],\n",
       "\n",
       "       ...,\n",
       "\n",
       "       [[0.12156863],\n",
       "        [0.08235294],\n",
       "        [0.02745098],\n",
       "        ...,\n",
       "        [0.02745098],\n",
       "        [0.08235294],\n",
       "        [0.12156863]],\n",
       "\n",
       "       [[0.21176471],\n",
       "        [0.17254902],\n",
       "        [0.08235294],\n",
       "        ...,\n",
       "        [0.08235294],\n",
       "        [0.17254902],\n",
       "        [0.21176471]],\n",
       "\n",
       "       [[1.        ],\n",
       "        [0.21176471],\n",
       "        [0.12156863],\n",
       "        ...,\n",
       "        [0.12156863],\n",
       "        [0.21176471],\n",
       "        [1.        ]]])"
      ]
     },
     "execution_count": 20,
     "metadata": {},
     "output_type": "execute_result"
    }
   ],
   "source": [
    "X_train[0]"
   ]
  },
  {
   "cell_type": "code",
   "execution_count": 21,
   "id": "1242f703",
   "metadata": {
    "execution": {
     "iopub.execute_input": "2024-01-25T12:46:53.251029Z",
     "iopub.status.busy": "2024-01-25T12:46:53.250738Z",
     "iopub.status.idle": "2024-01-25T12:46:53.541653Z",
     "shell.execute_reply": "2024-01-25T12:46:53.540620Z"
    },
    "papermill": {
     "duration": 0.304698,
     "end_time": "2024-01-25T12:46:53.543692",
     "exception": false,
     "start_time": "2024-01-25T12:46:53.238994",
     "status": "completed"
    },
    "tags": []
   },
   "outputs": [
    {
     "data": {
      "text/plain": [
       "<matplotlib.image.AxesImage at 0x7a2fcc91e0b0>"
      ]
     },
     "execution_count": 21,
     "metadata": {},
     "output_type": "execute_result"
    },
    {
     "data": {
      "image/png": "[encoded data removed]",
      "text/plain": [
       "<Figure size 640x480 with 1 Axes>"
      ]
     },
     "metadata": {},
     "output_type": "display_data"
    }
   ],
   "source": [
    "plt.imshow(X_train[0])"
   ]
  },
  {
   "cell_type": "code",
   "execution_count": 22,
   "id": "1022b826",
   "metadata": {
    "execution": {
     "iopub.execute_input": "2024-01-25T12:46:53.568190Z",
     "iopub.status.busy": "2024-01-25T12:46:53.567886Z",
     "iopub.status.idle": "2024-01-25T12:46:53.573523Z",
     "shell.execute_reply": "2024-01-25T12:46:53.572675Z"
    },
    "papermill": {
     "duration": 0.020318,
     "end_time": "2024-01-25T12:46:53.575637",
     "exception": false,
     "start_time": "2024-01-25T12:46:53.555319",
     "status": "completed"
    },
    "tags": []
   },
   "outputs": [
    {
     "data": {
      "text/plain": [
       "8.0"
      ]
     },
     "execution_count": 22,
     "metadata": {},
     "output_type": "execute_result"
    }
   ],
   "source": [
    "Y_train[0]"
   ]
  },
  {
   "cell_type": "code",
   "execution_count": 23,
   "id": "47f73db4",
   "metadata": {
    "execution": {
     "iopub.execute_input": "2024-01-25T12:46:53.599330Z",
     "iopub.status.busy": "2024-01-25T12:46:53.599019Z",
     "iopub.status.idle": "2024-01-25T12:46:53.608337Z",
     "shell.execute_reply": "2024-01-25T12:46:53.607528Z"
    },
    "papermill": {
     "duration": 0.02354,
     "end_time": "2024-01-25T12:46:53.610561",
     "exception": false,
     "start_time": "2024-01-25T12:46:53.587021",
     "status": "completed"
    },
    "tags": []
   },
   "outputs": [],
   "source": [
    "def Model():\n",
    "    model = Sequential()\n",
    "    model.add((Conv2D(64,(5,5),input_shape=X_train.shape[1:],activation='relu')))  # ADDING MORE CONVOLUTION LAYERS = LESS FEATURES BUT CAN CAUSE ACCURACY TO INCREASE\n",
    "    model.add((Conv2D(64, (5,5), activation='relu')))\n",
    "    model.add(MaxPooling2D(pool_size=(2,2)))\n",
    "    model.add(Dropout(0.1))\n",
    "    model.add((Conv2D(32, (3,3),activation='relu')))\n",
    "    model.add((Conv2D(32, (3,3), activation='relu')))\n",
    "    model.add(MaxPooling2D(pool_size=(2,2)))\n",
    "    model.add(Dropout(0.1))\n",
    "    model.add(Flatten())\n",
    "    model.add(Dense(500,activation='relu'))\n",
    "    model.add(Dropout(0.1))\n",
    "    model.add(Dense(200,activation='relu'))\n",
    "    model.add(Dropout(0.1))\n",
    "    model.add(Dense(noOfClasses,activation='softmax')) \n",
    "    model.compile(loss='sparse_categorical_crossentropy',optimizer=Adam(learning_rate=0.001),metrics=['accuracy'])\n",
    "    return model"
   ]
  },
  {
   "cell_type": "code",
   "execution_count": 24,
   "id": "3d9570af",
   "metadata": {
    "execution": {
     "iopub.execute_input": "2024-01-25T12:46:53.635198Z",
     "iopub.status.busy": "2024-01-25T12:46:53.634888Z",
     "iopub.status.idle": "2024-01-25T12:46:54.967935Z",
     "shell.execute_reply": "2024-01-25T12:46:54.966813Z"
    },
    "papermill": {
     "duration": 1.361489,
     "end_time": "2024-01-25T12:46:54.983284",
     "exception": false,
     "start_time": "2024-01-25T12:46:53.621795",
     "status": "completed"
    },
    "tags": []
   },
   "outputs": [
    {
     "name": "stdout",
     "output_type": "stream",
     "text": [
      "Model: \"sequential\"\n",
      "_________________________________________________________________\n",
      " Layer (type)                Output Shape              Param #   \n",
      "=================================================================\n",
      " conv2d (Conv2D)             (None, 60, 60, 64)        1664      \n",
      "                                                                 \n",
      " conv2d_1 (Conv2D)           (None, 56, 56, 64)        102464    \n",
      "                                                                 \n",
      " max_pooling2d (MaxPooling2  (None, 28, 28, 64)        0         \n",
      " D)                                                              \n",
      "                                                                 \n",
      " dropout (Dropout)           (None, 28, 28, 64)        0         \n",
      "                                                                 \n",
      " conv2d_2 (Conv2D)           (None, 26, 26, 32)        18464     \n",
      "                                                                 \n",
      " conv2d_3 (Conv2D)           (None, 24, 24, 32)        9248      \n",
      "                                                                 \n",
      " max_pooling2d_1 (MaxPoolin  (None, 12, 12, 32)        0         \n",
      " g2D)                                                            \n",
      "                                                                 \n",
      " dropout_1 (Dropout)         (None, 12, 12, 32)        0         \n",
      "                                                                 \n",
      " flatten (Flatten)           (None, 4608)              0         \n",
      "                                                                 \n",
      " dense (Dense)               (None, 500)               2304500   \n",
      "                                                                 \n",
      " dropout_2 (Dropout)         (None, 500)               0         \n",
      "                                                                 \n",
      " dense_1 (Dense)             (None, 200)               100200    \n",
      "                                                                 \n",
      " dropout_3 (Dropout)         (None, 200)               0         \n",
      "                                                                 \n",
      " dense_2 (Dense)             (None, 59)                11859     \n",
      "                                                                 \n",
      "=================================================================\n",
      "Total params: 2548399 (9.72 MB)\n",
      "Trainable params: 2548399 (9.72 MB)\n",
      "Non-trainable params: 0 (0.00 Byte)\n",
      "_________________________________________________________________\n",
      "None\n"
     ]
    }
   ],
   "source": [
    "model = Model()\n",
    "print(model.summary())"
   ]
  },
  {
   "cell_type": "code",
   "execution_count": 25,
   "id": "7aa1097e",
   "metadata": {
    "execution": {
     "iopub.execute_input": "2024-01-25T12:46:55.014270Z",
     "iopub.status.busy": "2024-01-25T12:46:55.013908Z",
     "iopub.status.idle": "2024-01-25T12:46:55.018744Z",
     "shell.execute_reply": "2024-01-25T12:46:55.017940Z"
    },
    "papermill": {
     "duration": 0.022901,
     "end_time": "2024-01-25T12:46:55.020710",
     "exception": false,
     "start_time": "2024-01-25T12:46:54.997809",
     "status": "completed"
    },
    "tags": []
   },
   "outputs": [],
   "source": [
    "datagen = ImageDataGenerator(\n",
    "    rotation_range=10,\n",
    "    width_shift_range=0.1,\n",
    "    height_shift_range=0.1,\n",
    "    zoom_range=0.1,\n",
    "    horizontal_flip=True\n",
    ")"
   ]
  },
  {
   "cell_type": "code",
   "execution_count": 26,
   "id": "f73f2fb2",
   "metadata": {
    "execution": {
     "iopub.execute_input": "2024-01-25T12:46:55.097844Z",
     "iopub.status.busy": "2024-01-25T12:46:55.096976Z",
     "iopub.status.idle": "2024-01-25T12:50:16.841404Z",
     "shell.execute_reply": "2024-01-25T12:50:16.840296Z"
    },
    "papermill": {
     "duration": 201.763118,
     "end_time": "2024-01-25T12:50:16.844291",
     "exception": false,
     "start_time": "2024-01-25T12:46:55.081173",
     "status": "completed"
    },
    "tags": []
   },
   "outputs": [
    {
     "name": "stdout",
     "output_type": "stream",
     "text": [
      "Epoch 1/32\n"
     ]
    },
    {
     "name": "stderr",
     "output_type": "stream",
     "text": [
      "2024-01-25 12:46:56.346006: E tensorflow/core/grappler/optimizers/meta_optimizer.cc:954] layout failed: INVALID_ARGUMENT: Size of values 0 does not match size of permutation 4 @ fanin shape insequential/dropout/dropout/SelectV2-2-TransposeNHWCToNCHW-LayoutOptimizer\n"
     ]
    },
    {
     "name": "stdout",
     "output_type": "stream",
     "text": [
      "279/279 [==============================] - 13s 25ms/step - loss: 3.1957 - accuracy: 0.1988 - val_loss: 2.0234 - val_accuracy: 0.4329\n",
      "Epoch 2/32\n",
      "279/279 [==============================] - 6s 22ms/step - loss: 1.7937 - accuracy: 0.4719 - val_loss: 1.1564 - val_accuracy: 0.6324\n",
      "Epoch 3/32\n",
      "279/279 [==============================] - 6s 22ms/step - loss: 1.2628 - accuracy: 0.6166 - val_loss: 0.8911 - val_accuracy: 0.7178\n",
      "Epoch 4/32\n",
      "279/279 [==============================] - 6s 22ms/step - loss: 1.0097 - accuracy: 0.6817 - val_loss: 0.6975 - val_accuracy: 0.7862\n",
      "Epoch 5/32\n",
      "279/279 [==============================] - 6s 22ms/step - loss: 0.8622 - accuracy: 0.7240 - val_loss: 0.6228 - val_accuracy: 0.7938\n",
      "Epoch 6/32\n",
      "279/279 [==============================] - 6s 22ms/step - loss: 0.7683 - accuracy: 0.7511 - val_loss: 0.6041 - val_accuracy: 0.7880\n",
      "Epoch 7/32\n",
      "279/279 [==============================] - 6s 22ms/step - loss: 0.6851 - accuracy: 0.7737 - val_loss: 0.5151 - val_accuracy: 0.8278\n",
      "Epoch 8/32\n",
      "279/279 [==============================] - 6s 22ms/step - loss: 0.6292 - accuracy: 0.7900 - val_loss: 0.5066 - val_accuracy: 0.8256\n",
      "Epoch 9/32\n",
      "279/279 [==============================] - 6s 22ms/step - loss: 0.6004 - accuracy: 0.7918 - val_loss: 0.5278 - val_accuracy: 0.8229\n",
      "Epoch 10/32\n",
      "279/279 [==============================] - 6s 22ms/step - loss: 0.5684 - accuracy: 0.8024 - val_loss: 0.4876 - val_accuracy: 0.8368\n",
      "Epoch 11/32\n",
      "279/279 [==============================] - 6s 21ms/step - loss: 0.5424 - accuracy: 0.8073 - val_loss: 0.4723 - val_accuracy: 0.8386\n",
      "Epoch 12/32\n",
      "279/279 [==============================] - 6s 22ms/step - loss: 0.5148 - accuracy: 0.8142 - val_loss: 0.4886 - val_accuracy: 0.8345\n",
      "Epoch 13/32\n",
      "279/279 [==============================] - 6s 21ms/step - loss: 0.5155 - accuracy: 0.8157 - val_loss: 0.4244 - val_accuracy: 0.8506\n",
      "Epoch 14/32\n",
      "279/279 [==============================] - 6s 21ms/step - loss: 0.4842 - accuracy: 0.8245 - val_loss: 0.4417 - val_accuracy: 0.8470\n",
      "Epoch 15/32\n",
      "279/279 [==============================] - 6s 22ms/step - loss: 0.4691 - accuracy: 0.8300 - val_loss: 0.4285 - val_accuracy: 0.8538\n",
      "Epoch 16/32\n",
      "279/279 [==============================] - 6s 22ms/step - loss: 0.4354 - accuracy: 0.8386 - val_loss: 0.4360 - val_accuracy: 0.8591\n",
      "Epoch 17/32\n",
      "279/279 [==============================] - 6s 21ms/step - loss: 0.4322 - accuracy: 0.8425 - val_loss: 0.4658 - val_accuracy: 0.8390\n",
      "Epoch 18/32\n",
      "279/279 [==============================] - 6s 21ms/step - loss: 0.4179 - accuracy: 0.8452 - val_loss: 0.4565 - val_accuracy: 0.8377\n",
      "Epoch 19/32\n",
      "279/279 [==============================] - 6s 21ms/step - loss: 0.4137 - accuracy: 0.8407 - val_loss: 0.4024 - val_accuracy: 0.8631\n",
      "Epoch 20/32\n",
      "279/279 [==============================] - 6s 21ms/step - loss: 0.3911 - accuracy: 0.8502 - val_loss: 0.4074 - val_accuracy: 0.8623\n",
      "Epoch 21/32\n",
      "279/279 [==============================] - 6s 22ms/step - loss: 0.4135 - accuracy: 0.8433 - val_loss: 0.4215 - val_accuracy: 0.8555\n",
      "Epoch 22/32\n",
      "279/279 [==============================] - 6s 21ms/step - loss: 0.3838 - accuracy: 0.8559 - val_loss: 0.4313 - val_accuracy: 0.8529\n",
      "Epoch 23/32\n",
      "279/279 [==============================] - 6s 22ms/step - loss: 0.3791 - accuracy: 0.8557 - val_loss: 0.4422 - val_accuracy: 0.8502\n",
      "Epoch 24/32\n",
      "279/279 [==============================] - 6s 22ms/step - loss: 0.3953 - accuracy: 0.8532 - val_loss: 0.3915 - val_accuracy: 0.8596\n",
      "Epoch 25/32\n",
      "279/279 [==============================] - 6s 21ms/step - loss: 0.3716 - accuracy: 0.8595 - val_loss: 0.3998 - val_accuracy: 0.8649\n",
      "Epoch 26/32\n",
      "279/279 [==============================] - 6s 22ms/step - loss: 0.3787 - accuracy: 0.8561 - val_loss: 0.4028 - val_accuracy: 0.8573\n",
      "Epoch 27/32\n",
      "279/279 [==============================] - 6s 21ms/step - loss: 0.3643 - accuracy: 0.8606 - val_loss: 0.3906 - val_accuracy: 0.8672\n",
      "Epoch 28/32\n",
      "279/279 [==============================] - 6s 22ms/step - loss: 0.3624 - accuracy: 0.8645 - val_loss: 0.4093 - val_accuracy: 0.8649\n",
      "Epoch 29/32\n",
      "279/279 [==============================] - 6s 22ms/step - loss: 0.3547 - accuracy: 0.8638 - val_loss: 0.4032 - val_accuracy: 0.8663\n",
      "Epoch 30/32\n",
      "279/279 [==============================] - 6s 22ms/step - loss: 0.3629 - accuracy: 0.8621 - val_loss: 0.4022 - val_accuracy: 0.8672\n",
      "Epoch 31/32\n",
      "279/279 [==============================] - 6s 23ms/step - loss: 0.3502 - accuracy: 0.8647 - val_loss: 0.3832 - val_accuracy: 0.8699\n",
      "Epoch 32/32\n",
      "279/279 [==============================] - 6s 21ms/step - loss: 0.3446 - accuracy: 0.8670 - val_loss: 0.3995 - val_accuracy: 0.8636\n"
     ]
    }
   ],
   "source": [
    "history=model.fit(datagen.flow(X_train, Y_train, batch_size=32),steps_per_epoch=len(X_train)//32,epochs=32,shuffle=1,validation_data=(X_validation,Y_validation))"
   ]
  },
  {
   "cell_type": "code",
   "execution_count": 27,
   "id": "055fe959",
   "metadata": {
    "execution": {
     "iopub.execute_input": "2024-01-25T12:50:17.368405Z",
     "iopub.status.busy": "2024-01-25T12:50:17.368028Z",
     "iopub.status.idle": "2024-01-25T12:50:18.152824Z",
     "shell.execute_reply": "2024-01-25T12:50:18.151868Z"
    },
    "papermill": {
     "duration": 1.048675,
     "end_time": "2024-01-25T12:50:18.155322",
     "exception": false,
     "start_time": "2024-01-25T12:50:17.106647",
     "status": "completed"
    },
    "tags": []
   },
   "outputs": [
    {
     "name": "stdout",
     "output_type": "stream",
     "text": [
      "Test Score: 0.34444135427474976\n",
      "Test Accuracy: 0.8790697455406189\n"
     ]
    }
   ],
   "source": [
    "score =model.evaluate(X_test,Y_test,verbose=0)\n",
    "print('Test Score:',score[0])\n",
    "print('Test Accuracy:',score[1])\n"
   ]
  },
  {
   "cell_type": "code",
   "execution_count": 28,
   "id": "019129e1",
   "metadata": {
    "execution": {
     "iopub.execute_input": "2024-01-25T12:50:18.704919Z",
     "iopub.status.busy": "2024-01-25T12:50:18.704029Z",
     "iopub.status.idle": "2024-01-25T12:50:19.249529Z",
     "shell.execute_reply": "2024-01-25T12:50:19.248614Z"
    },
    "papermill": {
     "duration": 0.821773,
     "end_time": "2024-01-25T12:50:19.252019",
     "exception": false,
     "start_time": "2024-01-25T12:50:18.430246",
     "status": "completed"
    },
    "tags": []
   },
   "outputs": [
    {
     "data": {
      "image/png": "[encoded data removed]",
      "text/plain": [
       "<Figure size 1400x700 with 2 Axes>"
      ]
     },
     "metadata": {},
     "output_type": "display_data"
    }
   ],
   "source": [
    "def plot_model_loss_curves(history):\n",
    "    acc = history.history['accuracy']\n",
    "    val_acc = history.history['val_accuracy']\n",
    "\n",
    "    loss = history.history['loss']\n",
    "    val_loss = history.history['val_loss']\n",
    "\n",
    "    epochs_range = range(32)\n",
    "\n",
    "    plt.figure(figsize=(14, 7))\n",
    "    plt.subplot(1, 2, 1)\n",
    "    plt.plot(epochs_range, acc, label='Training Accuracy')\n",
    "    plt.plot(epochs_range, val_acc, label='Validation Accuracy')\n",
    "    plt.legend(loc='lower right')\n",
    "    plt.title('Training and Validation Accuracy')\n",
    "\n",
    "    plt.subplot(1, 2, 2)\n",
    "    plt.plot(epochs_range, loss, label='Training Loss')\n",
    "    plt.plot(epochs_range, val_loss, label='Validation Loss')\n",
    "    plt.legend(loc='upper right')\n",
    "    plt.title('Training and Validation Loss')\n",
    "    plt.show()\n",
    "\n",
    "plot_model_loss_curves(history=history)"
   ]
  },
  {
   "cell_type": "code",
   "execution_count": 29,
   "id": "dababfbb",
   "metadata": {
    "execution": {
     "iopub.execute_input": "2024-01-25T12:50:19.796429Z",
     "iopub.status.busy": "2024-01-25T12:50:19.795559Z",
     "iopub.status.idle": "2024-01-25T12:50:20.616695Z",
     "shell.execute_reply": "2024-01-25T12:50:20.615635Z"
    },
    "papermill": {
     "duration": 1.088145,
     "end_time": "2024-01-25T12:50:20.618779",
     "exception": false,
     "start_time": "2024-01-25T12:50:19.530634",
     "status": "completed"
    },
    "tags": []
   },
   "outputs": [
    {
     "name": "stdout",
     "output_type": "stream",
     "text": [
      "88/88 [==============================] - 1s 5ms/step\n"
     ]
    },
    {
     "data": {
      "text/plain": [
       "array([23,  4, 17, ..., 33, 45, 24])"
      ]
     },
     "execution_count": 29,
     "metadata": {},
     "output_type": "execute_result"
    }
   ],
   "source": [
    "Y_preds=model.predict(X_test)\n",
    "Y_preds=np.argmax(Y_preds,axis=1)\n",
    "Y_preds"
   ]
  },
  {
   "cell_type": "code",
   "execution_count": 30,
   "id": "440d1e7a",
   "metadata": {
    "execution": {
     "iopub.execute_input": "2024-01-25T12:50:21.221307Z",
     "iopub.status.busy": "2024-01-25T12:50:21.220467Z",
     "iopub.status.idle": "2024-01-25T12:50:21.314290Z",
     "shell.execute_reply": "2024-01-25T12:50:21.313357Z"
    },
    "papermill": {
     "duration": 0.387733,
     "end_time": "2024-01-25T12:50:21.316456",
     "exception": false,
     "start_time": "2024-01-25T12:50:20.928723",
     "status": "completed"
    },
    "tags": []
   },
   "outputs": [
    {
     "name": "stderr",
     "output_type": "stream",
     "text": [
      "/opt/conda/lib/python3.10/site-packages/keras/src/engine/training.py:3000: UserWarning: You are saving your model as an HDF5 file via `model.save()`. This file format is considered legacy. We recommend using instead the native Keras format, e.g. `model.save('my_model.keras')`.\n",
      "  saving_api.save_model(\n"
     ]
    }
   ],
   "source": [
    "model.save('final.h5')"
   ]
  },
  {
   "cell_type": "code",
   "execution_count": null,
   "id": "5678e703",
   "metadata": {
    "papermill": {
     "duration": 0.267452,
     "end_time": "2024-01-25T12:50:21.852867",
     "exception": false,
     "start_time": "2024-01-25T12:50:21.585415",
     "status": "completed"
    },
    "tags": []
   },
   "outputs": [],
   "source": []
  }
 ],
 "metadata": {
  "kaggle": {
   "accelerator": "nvidiaTeslaT4",
   "dataSources": [
    {
     "datasetId": 2067333,
     "sourceId": 3430520,
     "sourceType": "datasetVersion"
    }
   ],
   "dockerImageVersionId": 30635,
   "isGpuEnabled": true,
   "isInternetEnabled": false,
   "language": "python",
   "sourceType": "notebook"
  },
  "kernelspec": {
   "display_name": "Python 3",
   "language": "python",
   "name": "python3"
  },
  "language_info": {
   "codemirror_mode": {
    "name": "ipython",
    "version": 3
   },
   "file_extension": ".py",
   "mimetype": "text/x-python",
   "name": "python",
   "nbconvert_exporter": "python",
   "pygments_lexer": "ipython3",
   "version": "3.10.12"
  },
  "papermill": {
   "default_parameters": {},
   "duration": 303.917263,
   "end_time": "2024-01-25T12:50:25.211903",
   "environment_variables": {},
   "exception": null,
   "input_path": "__notebook__.ipynb",
   "output_path": "__notebook__.ipynb",
   "parameters": {},
   "start_time": "2024-01-25T12:45:21.294640",
   "version": "2.4.0"
  }
 },
 "nbformat": 4,
 "nbformat_minor": 5
}
